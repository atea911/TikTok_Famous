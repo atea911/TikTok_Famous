{
 "cells": [
  {
   "cell_type": "code",
   "execution_count": 1,
   "metadata": {},
   "outputs": [
    {
     "ename": "ModuleNotFoundError",
     "evalue": "No module named 'TikTokApi'",
     "output_type": "error",
     "traceback": [
      "\u001b[0;31m---------------------------------------------------------------------------\u001b[0m",
      "\u001b[0;31mModuleNotFoundError\u001b[0m                       Traceback (most recent call last)",
      "\u001b[0;32m<ipython-input-1-80dde1b92186>\u001b[0m in \u001b[0;36m<module>\u001b[0;34m\u001b[0m\n\u001b[1;32m      1\u001b[0m \u001b[0;32mimport\u001b[0m \u001b[0mpandas\u001b[0m \u001b[0;32mas\u001b[0m \u001b[0mpd\u001b[0m\u001b[0;34m\u001b[0m\u001b[0;34m\u001b[0m\u001b[0m\n\u001b[1;32m      2\u001b[0m \u001b[0;32mimport\u001b[0m \u001b[0mnumpy\u001b[0m \u001b[0;32mas\u001b[0m \u001b[0mnp\u001b[0m\u001b[0;34m\u001b[0m\u001b[0;34m\u001b[0m\u001b[0m\n\u001b[0;32m----> 3\u001b[0;31m \u001b[0;32mfrom\u001b[0m \u001b[0mTikTokApi\u001b[0m \u001b[0;32mimport\u001b[0m \u001b[0mTikTokApi\u001b[0m\u001b[0;34m\u001b[0m\u001b[0;34m\u001b[0m\u001b[0m\n\u001b[0m\u001b[1;32m      4\u001b[0m \u001b[0;31m#from tiktok_data_cleaner import get_trending_data, hashtag_cleaner, data_cleaner, to_csv\u001b[0m\u001b[0;34m\u001b[0m\u001b[0;34m\u001b[0m\u001b[0;34m\u001b[0m\u001b[0m\n\u001b[1;32m      5\u001b[0m \u001b[0;32mfrom\u001b[0m \u001b[0mTikTokApi\u001b[0m\u001b[0;34m.\u001b[0m\u001b[0mbrowser\u001b[0m \u001b[0;32mimport\u001b[0m \u001b[0mset_async\u001b[0m\u001b[0;34m\u001b[0m\u001b[0;34m\u001b[0m\u001b[0m\n",
      "\u001b[0;31mModuleNotFoundError\u001b[0m: No module named 'TikTokApi'"
     ]
    }
   ],
   "source": [
    "import pandas as pd\n",
    "import numpy as np\n",
    "from TikTokApi import TikTokApi\n",
    "#from tiktok_data_cleaner import get_trending_data, hashtag_cleaner, data_cleaner, to_csv\n",
    "from TikTokApi.browser import set_async\n",
    "set_async()"
   ]
  },
  {
   "cell_type": "code",
   "execution_count": null,
   "metadata": {},
   "outputs": [],
   "source": [
    "#load = pd.read_csv(\"trending_11_7.csv\")\n",
    "#load = dataframe"
   ]
  },
  {
   "cell_type": "code",
   "execution_count": null,
   "metadata": {},
   "outputs": [],
   "source": [
    "#dupl_rem = load.drop_duplicates('song_id')"
   ]
  },
  {
   "cell_type": "code",
   "execution_count": null,
   "metadata": {},
   "outputs": [],
   "source": [
    "#load = dupl_rem"
   ]
  },
  {
   "cell_type": "code",
   "execution_count": null,
   "metadata": {},
   "outputs": [],
   "source": [
    "#to_csv(load, name=\"trending_songs\")"
   ]
  },
  {
   "cell_type": "code",
   "execution_count": null,
   "metadata": {},
   "outputs": [],
   "source": [
    "#load = pd.read_csv(\"trending_songs.csv\")"
   ]
  },
  {
   "cell_type": "code",
   "execution_count": null,
   "metadata": {},
   "outputs": [],
   "source": [
    "#new_load = load.drop_duplicates('song')"
   ]
  },
  {
   "cell_type": "code",
   "execution_count": null,
   "metadata": {},
   "outputs": [],
   "source": [
    "#load = new_load"
   ]
  },
  {
   "cell_type": "code",
   "execution_count": null,
   "metadata": {},
   "outputs": [],
   "source": [
    "#load = load[13:70]"
   ]
  },
  {
   "cell_type": "code",
   "execution_count": null,
   "metadata": {},
   "outputs": [],
   "source": [
    "#len(load)"
   ]
  },
  {
   "cell_type": "code",
   "execution_count": null,
   "metadata": {},
   "outputs": [],
   "source": [
    "def bySongID(song_id, n=10):\n",
    "    import pandas as pd\n",
    "    api = TikTokApi()\n",
    "    song_snowball = api.bySound(song_id, count=n)\n",
    "    \n",
    "    vids = []\n",
    "    \n",
    "    for tiktok in song_snowball:\n",
    "        vid = {}\n",
    "        vid['id'] = tiktok['itemInfos']['id']\n",
    "        vid['create_time'] = tiktok['itemInfos']['createTime']\n",
    "        vid['user_name'] = tiktok['authorInfos']['uniqueId']\n",
    "        vid['song'] = tiktok['musicInfos']['musicName']\n",
    "        vid['song_id'] = tiktok['musicInfos']['musicId']\n",
    "        \n",
    "\n",
    "        vid['n_likes'] = tiktok['itemInfos']['diggCount']\n",
    "        vid['n_shares'] = tiktok['itemInfos']['shareCount']\n",
    "        vid['n_comments'] = tiktok['itemInfos']['commentCount']\n",
    "        vid['n_plays'] = tiktok['itemInfos']['playCount']\n",
    "        vid['n_followers'] = tiktok['authorStats']['followerCount']\n",
    "        vid['n_total_likes'] = tiktok['authorStats']['heartCount']\n",
    "        vid['n_total_vids'] = tiktok['authorStats']['videoCount']\n",
    "        vids.append(vid)\n",
    "    \n",
    "    vids_df = pd.DataFrame(vids)\n",
    "    return vids_df\n",
    "\n",
    "\n"
   ]
  },
  {
   "cell_type": "code",
   "execution_count": null,
   "metadata": {},
   "outputs": [],
   "source": [
    "#count = 12\n",
    "#for i in load['song_id']:\n",
    "#    song_data = bySongID(i, n = 500)\n",
    "#    to_csv(song_data, name=\"song_data_\"+str(count))\n",
    "#    count = count + 1"
   ]
  },
  {
   "cell_type": "code",
   "execution_count": null,
   "metadata": {},
   "outputs": [],
   "source": [
    "'''\n",
    "Roses (Imanbek Remix) - Saint Jhn & Imanbek\n",
    "6738439639826287365\n",
    "\n",
    "\n",
    "Say So - Doja Cat\n",
    "6763054442704145158\n",
    "\n",
    "\n",
    "Savage - Megan Thee Stallion\n",
    "6800996740322297858\n",
    "\n",
    "\n",
    "Money Trees - Kendrick Lamar\n",
    "6755145210856016645\n",
    "\n",
    "\n",
    "Lottery - K Camp\n",
    "6744446812653947654\n",
    "\n",
    "\n",
    "Roxanne - Arizona Zervas\n",
    "6746368108098784006\n",
    "\n",
    "\n",
    "Nonstop - Drake\n",
    "6801699011402156806\n",
    "\n",
    "\n",
    "The Box - Roddy Ricch\n",
    "6778286560891718406\n",
    "\n",
    "\n",
    "Tap in - Saweetie\n",
    "6839497849235950341\n",
    "\n",
    "\n",
    "Relationship - Young Thug\n",
    "6736930971020528389\n",
    "\n",
    "\n",
    "'''"
   ]
  },
  {
   "cell_type": "code",
   "execution_count": null,
   "metadata": {},
   "outputs": [],
   "source": [
    "ids = [6738439639826287365, 6763054442704145158, 6800996740322297858, 6755145210856016645,\n",
    "       6744446812653947654, 6746368108098784006, 6801699011402156806, 6778286560891718406,\n",
    "       6839497849235950341, 6736930971020528389]"
   ]
  },
  {
   "cell_type": "code",
   "execution_count": null,
   "metadata": {},
   "outputs": [],
   "source": [
    "for i in ids:\n",
    "    song_data = bySongID(i, n=500)\n",
    "    to_csv(song_data, name=\"song_data\"+str(i))"
   ]
  },
  {
   "cell_type": "code",
   "execution_count": null,
   "metadata": {},
   "outputs": [],
   "source": []
  }
 ],
 "metadata": {
  "kernelspec": {
   "display_name": "Python 3",
   "language": "python",
   "name": "python3"
  },
  "language_info": {
   "codemirror_mode": {
    "name": "ipython",
    "version": 3
   },
   "file_extension": ".py",
   "mimetype": "text/x-python",
   "name": "python",
   "nbconvert_exporter": "python",
   "pygments_lexer": "ipython3",
   "version": "3.8.2"
  }
 },
 "nbformat": 4,
 "nbformat_minor": 4
}
