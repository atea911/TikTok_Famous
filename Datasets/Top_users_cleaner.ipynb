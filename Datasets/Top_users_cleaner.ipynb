{
 "cells": [
  {
   "cell_type": "code",
   "execution_count": 1,
   "metadata": {},
   "outputs": [],
   "source": [
    "import pandas as pd\n",
    "import numpy as np\n",
    "from TikTokApi import TikTokApi"
   ]
  },
  {
   "cell_type": "code",
   "execution_count": 2,
   "metadata": {},
   "outputs": [
    {
     "name": "stderr",
     "output_type": "stream",
     "text": [
      "/Users/ivant/Desktop/DataRes/TikTok/venv/lib/python3.8/site-packages/TikTokApi/browser.py:84: RuntimeWarning: coroutine 'browser.newParams' was never awaited\n",
      "  self.loop.close()\n",
      "RuntimeWarning: Enable tracemalloc to get the object allocation traceback\n"
     ]
    }
   ],
   "source": [
    "api = TikTokApi()\n",
    "from TikTokApi.browser import set_async\n",
    "set_async()"
   ]
  },
  {
   "cell_type": "code",
   "execution_count": 3,
   "metadata": {},
   "outputs": [],
   "source": [
    "top_users = pd.read_csv(\"top-250-tiktokers.csv\")"
   ]
  },
  {
   "cell_type": "code",
   "execution_count": 4,
   "metadata": {},
   "outputs": [],
   "source": [
    "seed_users = []\n",
    "for i in top_users['Username']:\n",
    "    seed_users.append(i[1:])"
   ]
  },
  {
   "cell_type": "code",
   "execution_count": 5,
   "metadata": {},
   "outputs": [],
   "source": [
    "users_and_id = []\n",
    "for username in seed_users:\n",
    "    data = {}\n",
    "    x = api.getUser(username)['userInfo']['user']\n",
    "    data['username'] = x['uniqueId']\n",
    "    data['id'] = x['id']\n",
    "    users_and_id.append(data)"
   ]
  },
  {
   "cell_type": "code",
   "execution_count": 6,
   "metadata": {},
   "outputs": [],
   "source": [
    "users_and_id_df = pd.DataFrame(users_and_id)"
   ]
  }
 ],
 "metadata": {
  "kernelspec": {
   "display_name": "TikTok",
   "language": "python",
   "name": "tiktok"
  },
  "language_info": {
   "codemirror_mode": {
    "name": "ipython",
    "version": 3
   },
   "file_extension": ".py",
   "mimetype": "text/x-python",
   "name": "python",
   "nbconvert_exporter": "python",
   "pygments_lexer": "ipython3",
   "version": "3.8.2"
  }
 },
 "nbformat": 4,
 "nbformat_minor": 4
}
