{
 "cells": [
  {
   "cell_type": "code",
   "execution_count": 1,
   "metadata": {},
   "outputs": [],
   "source": [
    "import pandas as pd\n",
    "import numpy as np\n",
    "from TikTokApi import TikTokApi\n",
    "from tiktok_data_cleaner import data_cleaner, hashtag_cleaner, to_csv"
   ]
  },
  {
   "cell_type": "code",
   "execution_count": 2,
   "metadata": {},
   "outputs": [
    {
     "name": "stderr",
     "output_type": "stream",
     "text": [
      "/Users/ivant/Desktop/DataRes/TikTok/venv/lib/python3.8/site-packages/TikTokApi/browser.py:84: RuntimeWarning: coroutine 'browser.newParams' was never awaited\n",
      "  self.loop.close()\n",
      "RuntimeWarning: Enable tracemalloc to get the object allocation traceback\n"
     ]
    }
   ],
   "source": [
    "api = TikTokApi()\n",
    "from TikTokApi.browser import set_async\n",
    "set_async()"
   ]
  },
  {
   "cell_type": "code",
   "execution_count": 3,
   "metadata": {},
   "outputs": [
    {
     "data": {
      "text/html": [
       "<div>\n",
       "<style scoped>\n",
       "    .dataframe tbody tr th:only-of-type {\n",
       "        vertical-align: middle;\n",
       "    }\n",
       "\n",
       "    .dataframe tbody tr th {\n",
       "        vertical-align: top;\n",
       "    }\n",
       "\n",
       "    .dataframe thead th {\n",
       "        text-align: right;\n",
       "    }\n",
       "</style>\n",
       "<table border=\"1\" class=\"dataframe\">\n",
       "  <thead>\n",
       "    <tr style=\"text-align: right;\">\n",
       "      <th></th>\n",
       "      <th>username</th>\n",
       "      <th>id</th>\n",
       "    </tr>\n",
       "  </thead>\n",
       "  <tbody>\n",
       "    <tr>\n",
       "      <th>0</th>\n",
       "      <td>charlidamelio</td>\n",
       "      <td>5831967</td>\n",
       "    </tr>\n",
       "    <tr>\n",
       "      <th>1</th>\n",
       "      <td>addisonre</td>\n",
       "      <td>6703550784929793030</td>\n",
       "    </tr>\n",
       "    <tr>\n",
       "      <th>2</th>\n",
       "      <td>zachking</td>\n",
       "      <td>68616495085350913</td>\n",
       "    </tr>\n",
       "    <tr>\n",
       "      <th>3</th>\n",
       "      <td>lorengray</td>\n",
       "      <td>934514</td>\n",
       "    </tr>\n",
       "    <tr>\n",
       "      <th>4</th>\n",
       "      <td>tiktok</td>\n",
       "      <td>107955</td>\n",
       "    </tr>\n",
       "    <tr>\n",
       "      <th>...</th>\n",
       "      <td>...</td>\n",
       "      <td>...</td>\n",
       "    </tr>\n",
       "    <tr>\n",
       "      <th>251</th>\n",
       "      <td>ramneeksingh1313</td>\n",
       "      <td>6884888749793199110</td>\n",
       "    </tr>\n",
       "    <tr>\n",
       "      <th>252</th>\n",
       "      <td>amandacerny</td>\n",
       "      <td>7148065</td>\n",
       "    </tr>\n",
       "    <tr>\n",
       "      <th>253</th>\n",
       "      <td>rahimabram</td>\n",
       "      <td>6545172102751633413</td>\n",
       "    </tr>\n",
       "    <tr>\n",
       "      <th>254</th>\n",
       "      <td>johnnyorlando</td>\n",
       "      <td>15268178</td>\n",
       "    </tr>\n",
       "    <tr>\n",
       "      <th>255</th>\n",
       "      <td>sarati</td>\n",
       "      <td>6615596888929812485</td>\n",
       "    </tr>\n",
       "  </tbody>\n",
       "</table>\n",
       "<p>256 rows × 2 columns</p>\n",
       "</div>"
      ],
      "text/plain": [
       "             username                   id\n",
       "0       charlidamelio              5831967\n",
       "1           addisonre  6703550784929793030\n",
       "2            zachking    68616495085350913\n",
       "3           lorengray               934514\n",
       "4              tiktok               107955\n",
       "..                ...                  ...\n",
       "251  ramneeksingh1313  6884888749793199110\n",
       "252       amandacerny              7148065\n",
       "253        rahimabram  6545172102751633413\n",
       "254     johnnyorlando             15268178\n",
       "255            sarati  6615596888929812485\n",
       "\n",
       "[256 rows x 2 columns]"
      ]
     },
     "execution_count": 3,
     "metadata": {},
     "output_type": "execute_result"
    }
   ],
   "source": [
    "users = pd.read_csv('top_users+id.csv')\n",
    "users"
   ]
  },
  {
   "cell_type": "code",
   "execution_count": 4,
   "metadata": {},
   "outputs": [
    {
     "data": {
      "text/html": [
       "<div>\n",
       "<style scoped>\n",
       "    .dataframe tbody tr th:only-of-type {\n",
       "        vertical-align: middle;\n",
       "    }\n",
       "\n",
       "    .dataframe tbody tr th {\n",
       "        vertical-align: top;\n",
       "    }\n",
       "\n",
       "    .dataframe thead th {\n",
       "        text-align: right;\n",
       "    }\n",
       "</style>\n",
       "<table border=\"1\" class=\"dataframe\">\n",
       "  <thead>\n",
       "    <tr style=\"text-align: right;\">\n",
       "      <th></th>\n",
       "      <th>username</th>\n",
       "      <th>id</th>\n",
       "    </tr>\n",
       "  </thead>\n",
       "  <tbody>\n",
       "    <tr>\n",
       "      <th>0</th>\n",
       "      <td>john.cena10</td>\n",
       "      <td>6854235943953449989</td>\n",
       "    </tr>\n",
       "    <tr>\n",
       "      <th>1</th>\n",
       "      <td>robertdowneyjnrofficial</td>\n",
       "      <td>6885987756834178050</td>\n",
       "    </tr>\n",
       "    <tr>\n",
       "      <th>2</th>\n",
       "      <td>shaq</td>\n",
       "      <td>14388294</td>\n",
       "    </tr>\n",
       "    <tr>\n",
       "      <th>3</th>\n",
       "      <td>lazarbeam</td>\n",
       "      <td>6631468310313943045</td>\n",
       "    </tr>\n",
       "    <tr>\n",
       "      <th>4</th>\n",
       "      <td>mrbeast</td>\n",
       "      <td>6614519312189947909</td>\n",
       "    </tr>\n",
       "    <tr>\n",
       "      <th>...</th>\n",
       "      <td>...</td>\n",
       "      <td>...</td>\n",
       "    </tr>\n",
       "    <tr>\n",
       "      <th>1724</th>\n",
       "      <td>briteresi0</td>\n",
       "      <td>6689034142682203142</td>\n",
       "    </tr>\n",
       "    <tr>\n",
       "      <th>1725</th>\n",
       "      <td>lynaperezz</td>\n",
       "      <td>6672558701465338881</td>\n",
       "    </tr>\n",
       "    <tr>\n",
       "      <th>1726</th>\n",
       "      <td>girlgainzblog</td>\n",
       "      <td>6807872361221096454</td>\n",
       "    </tr>\n",
       "    <tr>\n",
       "      <th>1727</th>\n",
       "      <td>berryemi1</td>\n",
       "      <td>6818002132563067909</td>\n",
       "    </tr>\n",
       "    <tr>\n",
       "      <th>1728</th>\n",
       "      <td>victoriabachlet</td>\n",
       "      <td>1146186</td>\n",
       "    </tr>\n",
       "  </tbody>\n",
       "</table>\n",
       "<p>1729 rows × 2 columns</p>\n",
       "</div>"
      ],
      "text/plain": [
       "                     username                   id\n",
       "0                 john.cena10  6854235943953449989\n",
       "1     robertdowneyjnrofficial  6885987756834178050\n",
       "2                        shaq             14388294\n",
       "3                   lazarbeam  6631468310313943045\n",
       "4                     mrbeast  6614519312189947909\n",
       "...                       ...                  ...\n",
       "1724               briteresi0  6689034142682203142\n",
       "1725               lynaperezz  6672558701465338881\n",
       "1726            girlgainzblog  6807872361221096454\n",
       "1727                berryemi1  6818002132563067909\n",
       "1728          victoriabachlet              1146186\n",
       "\n",
       "[1729 rows x 2 columns]"
      ]
     },
     "execution_count": 4,
     "metadata": {},
     "output_type": "execute_result"
    }
   ],
   "source": [
    "suggested = pd.read_csv('suggested_user_and_id.csv')\n",
    "suggested"
   ]
  },
  {
   "cell_type": "code",
   "execution_count": 5,
   "metadata": {},
   "outputs": [],
   "source": [
    "def get_vids(df, n_videos = 50):\n",
    "    vids = []\n",
    "    for username in df:\n",
    "        vids.append(api.byUsername(username, count=n_videos))\n",
    "    return vids"
   ]
  },
  {
   "cell_type": "code",
   "execution_count": 6,
   "metadata": {},
   "outputs": [
    {
     "name": "stdout",
     "output_type": "stream",
     "text": [
      "TikTok isn't sending more TikToks beyond this point.\n",
      "TikTok isn't sending more TikToks beyond this point.\n",
      "TikTok isn't sending more TikToks beyond this point.\n",
      "TikTok isn't sending more TikToks beyond this point.\n",
      "TikTok isn't sending more TikToks beyond this point.\n",
      "TikTok isn't sending more TikToks beyond this point.\n",
      "TikTok isn't sending more TikToks beyond this point.\n",
      "TikTok isn't sending more TikToks beyond this point.\n",
      "TikTok isn't sending more TikToks beyond this point.\n",
      "TikTok isn't sending more TikToks beyond this point.\n",
      "TikTok isn't sending more TikToks beyond this point.\n",
      "TikTok isn't sending more TikToks beyond this point.\n",
      "TikTok isn't sending more TikToks beyond this point.\n",
      "TikTok isn't sending more TikToks beyond this point.\n",
      "TikTok isn't sending more TikToks beyond this point.\n",
      "TikTok isn't sending more TikToks beyond this point.\n",
      "TikTok isn't sending more TikToks beyond this point.\n",
      "TikTok isn't sending more TikToks beyond this point.\n",
      "TikTok isn't sending more TikToks beyond this point.\n",
      "TikTok isn't sending more TikToks beyond this point.\n",
      "TikTok isn't sending more TikToks beyond this point.\n",
      "TikTok isn't sending more TikToks beyond this point.\n"
     ]
    },
    {
     "ename": "TypeError",
     "evalue": "list indices must be integers or slices, not str",
     "output_type": "error",
     "traceback": [
      "\u001b[0;31m---------------------------------------------------------------------------\u001b[0m",
      "\u001b[0;31mTypeError\u001b[0m                                 Traceback (most recent call last)",
      "\u001b[0;32m<ipython-input-6-6c5d1256f4b2>\u001b[0m in \u001b[0;36m<module>\u001b[0;34m\u001b[0m\n\u001b[0;32m----> 1\u001b[0;31m \u001b[0mtop\u001b[0m \u001b[0;34m=\u001b[0m \u001b[0mdata_cleaner\u001b[0m\u001b[0;34m(\u001b[0m\u001b[0mget_vids\u001b[0m\u001b[0;34m(\u001b[0m\u001b[0musers\u001b[0m\u001b[0;34m[\u001b[0m\u001b[0;34m'username'\u001b[0m\u001b[0;34m]\u001b[0m\u001b[0;34m)\u001b[0m\u001b[0;34m)\u001b[0m\u001b[0;34m\u001b[0m\u001b[0;34m\u001b[0m\u001b[0m\n\u001b[0m\u001b[1;32m      2\u001b[0m \u001b[0mtop\u001b[0m\u001b[0;34m\u001b[0m\u001b[0;34m\u001b[0m\u001b[0m\n",
      "\u001b[0;32m~/Desktop/DataRes/TikTok/TikTok_famous/Datasets/tiktok_data_cleaner.py\u001b[0m in \u001b[0;36mdata_cleaner\u001b[0;34m(data)\u001b[0m\n\u001b[1;32m     39\u001b[0m     \u001b[0;32mfor\u001b[0m \u001b[0mtiktok\u001b[0m \u001b[0;32min\u001b[0m \u001b[0mdata\u001b[0m\u001b[0;34m:\u001b[0m\u001b[0;34m\u001b[0m\u001b[0;34m\u001b[0m\u001b[0m\n\u001b[1;32m     40\u001b[0m         \u001b[0mvid\u001b[0m \u001b[0;34m=\u001b[0m \u001b[0;34m{\u001b[0m\u001b[0;34m}\u001b[0m\u001b[0;34m\u001b[0m\u001b[0;34m\u001b[0m\u001b[0m\n\u001b[0;32m---> 41\u001b[0;31m         \u001b[0mvid\u001b[0m\u001b[0;34m[\u001b[0m\u001b[0;34m'id'\u001b[0m\u001b[0;34m]\u001b[0m \u001b[0;34m=\u001b[0m \u001b[0mtiktok\u001b[0m\u001b[0;34m[\u001b[0m\u001b[0;34m'id'\u001b[0m\u001b[0;34m]\u001b[0m\u001b[0;34m\u001b[0m\u001b[0;34m\u001b[0m\u001b[0m\n\u001b[0m\u001b[1;32m     42\u001b[0m         \u001b[0mvid\u001b[0m\u001b[0;34m[\u001b[0m\u001b[0;34m'create_time'\u001b[0m\u001b[0;34m]\u001b[0m \u001b[0;34m=\u001b[0m \u001b[0mtiktok\u001b[0m\u001b[0;34m[\u001b[0m\u001b[0;34m'createTime'\u001b[0m\u001b[0;34m]\u001b[0m\u001b[0;34m\u001b[0m\u001b[0;34m\u001b[0m\u001b[0m\n\u001b[1;32m     43\u001b[0m         \u001b[0mvid\u001b[0m\u001b[0;34m[\u001b[0m\u001b[0;34m'user_name'\u001b[0m\u001b[0;34m]\u001b[0m \u001b[0;34m=\u001b[0m \u001b[0mtiktok\u001b[0m\u001b[0;34m[\u001b[0m\u001b[0;34m'author'\u001b[0m\u001b[0;34m]\u001b[0m\u001b[0;34m[\u001b[0m\u001b[0;34m'uniqueId'\u001b[0m\u001b[0;34m]\u001b[0m\u001b[0;34m\u001b[0m\u001b[0;34m\u001b[0m\u001b[0m\n",
      "\u001b[0;31mTypeError\u001b[0m: list indices must be integers or slices, not str"
     ]
    }
   ],
   "source": [
    "api.byUsername('charlidamelio')"
   ]
  },
  {
   "cell_type": "code",
   "execution_count": null,
   "metadata": {},
   "outputs": [],
   "source": []
  }
 ],
 "metadata": {
  "kernelspec": {
   "display_name": "TikTok",
   "language": "python",
   "name": "tiktok"
  },
  "language_info": {
   "codemirror_mode": {
    "name": "ipython",
    "version": 3
   },
   "file_extension": ".py",
   "mimetype": "text/x-python",
   "name": "python",
   "nbconvert_exporter": "python",
   "pygments_lexer": "ipython3",
   "version": "3.8.2"
  }
 },
 "nbformat": 4,
 "nbformat_minor": 4
}
