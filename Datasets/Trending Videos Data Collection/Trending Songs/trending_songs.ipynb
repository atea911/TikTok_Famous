{
 "cells": [
  {
   "cell_type": "code",
   "execution_count": 1,
   "metadata": {},
   "outputs": [],
   "source": [
    "import pandas as pd\n",
    "import numpy as np\n",
    "from TikTokApi import TikTokApi\n",
    "from tiktok_data_cleaner import get_trending_data, hashtag_cleaner, data_cleaner, to_csv"
   ]
  },
  {
   "cell_type": "code",
   "execution_count": 3,
   "metadata": {},
   "outputs": [],
   "source": [
    "# outputs tiktok dictionary of trending videos\n",
    "# input: number of videos\n",
    "# output: tiktok dictionary\n",
    "def get_trending_data(n = 10):\n",
    "    from TikTokApi import TikTokApi\n",
    "    api = TikTokApi()\n",
    "    from TikTokApi.browser import set_async\n",
    "    set_async()\n",
    "    trending_vids = api.trending(count=n)\n",
    "    return trending_vids\n",
    "\n",
    "# extracts hashtags from video description and outputs a list of hashtags\n",
    "# input: string\n",
    "# output: list\n",
    "def hashtag_cleaner(x):\n",
    "    hashtags = []\n",
    "    spec_char = [\"[\", \"]\", \"{\", \"}\", \"%\",\n",
    "                 \"^\", \"*\", \"+\", \"=\", \"\\\\\",\n",
    "                 \"|\", \"~\", \"<\", \">\", \"€\",\n",
    "                 \"£\", \"¥\", \"•\", \".\", \",\",\n",
    "                 \"!\", \"'\", '\"', \"-\", \"/\",\n",
    "                 \":\", \";\", \"(\", \")\", \"$\",\n",
    "                 \"&\", \"#\", \" \"]\n",
    "    for i, val in enumerate(x):\n",
    "        ht = \"\"\n",
    "        if val == \"#\":\n",
    "            while (i+1 != len(x)) and (x[i+1] not in spec_char):\n",
    "                ht += x[i+1]\n",
    "                i += 1\n",
    "            hashtags.append(ht)\n",
    "    return hashtags\n",
    "\n",
    "# compiles data to a pandas dataframe\n",
    "# input: tiktok dictionary\n",
    "# output: cleaned dataframe\n",
    "def data_cleaner(data):\n",
    "    import pandas as pd\n",
    "    vids = []\n",
    "    for tiktok in data:\n",
    "        vid = {}\n",
    "        vid['id'] = tiktok['id']\n",
    "        vid['create_time'] = tiktok['createTime']\n",
    "        vid['user_name'] = tiktok['author']['uniqueId']\n",
    "        vid['hashtags'] = hashtag_cleaner(tiktok['desc'])\n",
    "        vid['song'] = tiktok['music']['title']\n",
    "        vid['song_id'] = tiktok['music']['id']\n",
    "        vid['video_length'] = tiktok['video']['duration']\n",
    "        vid['n_likes'] = tiktok['stats']['diggCount']\n",
    "        vid['n_shares'] = tiktok['stats']['shareCount']\n",
    "        vid['n_comments'] = tiktok['stats']['commentCount']\n",
    "        vid['n_plays'] = tiktok['stats']['playCount']\n",
    "        vid['n_followers'] = tiktok['authorStats']['followerCount']\n",
    "        vid['n_total_likes'] = tiktok['authorStats']['heart']\n",
    "        vid['n_total_vids'] = tiktok['authorStats']['videoCount']\n",
    "        vids.append(vid)\n",
    "    vids_df = pd.DataFrame(vids)\n",
    "    return vids_df\n",
    "\n",
    "# saves dataframe to csv file\n",
    "# input: datafran, name of file\n",
    "def to_csv(df, name = \"trending\"):\n",
    "    import pandas as pd\n",
    "    file = name+\".csv\"\n",
    "    df.to_csv(file, index=False)\n",
    "\n",
    "\n",
    "def main():\n",
    "    tiktok_dict = get_trending_data(n = 10)\n",
    "    dataframe = data_cleaner(tiktok_dict)\n",
    "    to_csv(dataframe)\n",
    "\n",
    "\n",
    "if __name__ == \"__main__\":\n",
    "    main()\n"
   ]
  },
  {
   "cell_type": "code",
   "execution_count": 4,
   "metadata": {},
   "outputs": [],
   "source": [
    "tiktok_dict = get_trending_data(n = 2000)\n",
    "dataframe = data_cleaner(tiktok_dict)\n",
    "#to_csv(dataframe, name = 'trending_11_7')"
   ]
  },
  {
   "cell_type": "code",
   "execution_count": 42,
   "metadata": {},
   "outputs": [],
   "source": [
    "#load = pd.read_csv(\"trending_11_7.csv\")\n",
    "load = dataframe"
   ]
  },
  {
   "cell_type": "code",
   "execution_count": null,
   "metadata": {
    "scrolled": true
   },
   "outputs": [],
   "source": [
    "dataframe"
   ]
  },
  {
   "cell_type": "code",
   "execution_count": 43,
   "metadata": {},
   "outputs": [],
   "source": [
    "dupl_rem = load.drop_duplicates('song_id')"
   ]
  },
  {
   "cell_type": "code",
   "execution_count": 9,
   "metadata": {},
   "outputs": [],
   "source": [
    "#to_csv(dupl_rem, name = 'trending_11_7')"
   ]
  },
  {
   "cell_type": "code",
   "execution_count": 10,
   "metadata": {},
   "outputs": [],
   "source": [
    "#load = pd.read_csv(\"trending_11_7.csv\")"
   ]
  },
  {
   "cell_type": "code",
   "execution_count": null,
   "metadata": {},
   "outputs": [],
   "source": []
  },
  {
   "cell_type": "code",
   "execution_count": 44,
   "metadata": {},
   "outputs": [],
   "source": [
    "load = dupl_rem"
   ]
  },
  {
   "cell_type": "code",
   "execution_count": null,
   "metadata": {},
   "outputs": [],
   "source": [
    "to_csv(load, name=\"trending_songs\")"
   ]
  },
  {
   "cell_type": "code",
   "execution_count": 9,
   "metadata": {},
   "outputs": [],
   "source": [
    "# restart here\n",
    "\n",
    "load = pd.read_csv(\"trending_songs.csv\")"
   ]
  },
  {
   "cell_type": "code",
   "execution_count": 10,
   "metadata": {},
   "outputs": [],
   "source": [
    "new_load = load.drop_duplicates('song')"
   ]
  },
  {
   "cell_type": "code",
   "execution_count": 11,
   "metadata": {},
   "outputs": [],
   "source": [
    "load = new_load"
   ]
  },
  {
   "cell_type": "code",
   "execution_count": 12,
   "metadata": {},
   "outputs": [
    {
     "data": {
      "text/plain": [
       "70"
      ]
     },
     "execution_count": 12,
     "metadata": {},
     "output_type": "execute_result"
    }
   ],
   "source": [
    "len(load)"
   ]
  },
  {
   "cell_type": "code",
   "execution_count": 15,
   "metadata": {},
   "outputs": [],
   "source": [
    "load = load[13:70]"
   ]
  },
  {
   "cell_type": "code",
   "execution_count": 16,
   "metadata": {},
   "outputs": [
    {
     "data": {
      "text/plain": [
       "57"
      ]
     },
     "execution_count": 16,
     "metadata": {},
     "output_type": "execute_result"
    }
   ],
   "source": [
    "len(load)"
   ]
  },
  {
   "cell_type": "code",
   "execution_count": 18,
   "metadata": {},
   "outputs": [],
   "source": [
    "api = TikTokApi()\n",
    "\n",
    "\n",
    "def bySongID(song_id, n=10):\n",
    "    import pandas as pd\n",
    "    api = TikTokApi()\n",
    "    song_snowball = api.bySound(song_id, count=n)\n",
    "    \n",
    "    vids = []\n",
    "    \n",
    "    for tiktok in song_snowball:\n",
    "        vid = {}\n",
    "        vid['id'] = tiktok['itemInfos']['id']\n",
    "        vid['create_time'] = tiktok['itemInfos']['createTime']\n",
    "        vid['user_name'] = tiktok['authorInfos']['uniqueId']\n",
    "        vid['song'] = tiktok['musicInfos']['musicName']\n",
    "        vid['song_id'] = tiktok['musicInfos']['musicId']\n",
    "        \n",
    "\n",
    "        vid['n_likes'] = tiktok['itemInfos']['diggCount']\n",
    "        vid['n_shares'] = tiktok['itemInfos']['shareCount']\n",
    "        vid['n_comments'] = tiktok['itemInfos']['commentCount']\n",
    "        vid['n_plays'] = tiktok['itemInfos']['playCount']\n",
    "        vid['n_followers'] = tiktok['authorStats']['followerCount']\n",
    "        vid['n_total_likes'] = tiktok['authorStats']['heartCount']\n",
    "        vid['n_total_vids'] = tiktok['authorStats']['videoCount']\n",
    "        vids.append(vid)\n",
    "    \n",
    "    vids_df = pd.DataFrame(vids)\n",
    "    return vids_df\n",
    "\n",
    "\n"
   ]
  },
  {
   "cell_type": "code",
   "execution_count": 25,
   "metadata": {},
   "outputs": [
    {
     "ename": "AttributeError",
     "evalue": "'browser' object has no attribute 'verifyFp'",
     "output_type": "error",
     "traceback": [
      "\u001b[0;31m---------------------------------------------------------------------------\u001b[0m",
      "\u001b[0;31mAttributeError\u001b[0m                            Traceback (most recent call last)",
      "\u001b[0;32m<ipython-input-25-3ef81b5476f8>\u001b[0m in \u001b[0;36m<module>\u001b[0;34m\u001b[0m\n\u001b[1;32m      1\u001b[0m \u001b[0mcount\u001b[0m \u001b[0;34m=\u001b[0m \u001b[0;36m12\u001b[0m\u001b[0;34m\u001b[0m\u001b[0;34m\u001b[0m\u001b[0m\n\u001b[1;32m      2\u001b[0m \u001b[0;32mfor\u001b[0m \u001b[0mi\u001b[0m \u001b[0;32min\u001b[0m \u001b[0mload\u001b[0m\u001b[0;34m[\u001b[0m\u001b[0;34m'song_id'\u001b[0m\u001b[0;34m]\u001b[0m\u001b[0;34m:\u001b[0m\u001b[0;34m\u001b[0m\u001b[0;34m\u001b[0m\u001b[0m\n\u001b[0;32m----> 3\u001b[0;31m     \u001b[0msong_data\u001b[0m \u001b[0;34m=\u001b[0m \u001b[0mbySongID\u001b[0m\u001b[0;34m(\u001b[0m\u001b[0mi\u001b[0m\u001b[0;34m,\u001b[0m \u001b[0mn\u001b[0m \u001b[0;34m=\u001b[0m \u001b[0;36m500\u001b[0m\u001b[0;34m)\u001b[0m\u001b[0;34m\u001b[0m\u001b[0;34m\u001b[0m\u001b[0m\n\u001b[0m\u001b[1;32m      4\u001b[0m     \u001b[0mto_csv\u001b[0m\u001b[0;34m(\u001b[0m\u001b[0msong_data\u001b[0m\u001b[0;34m,\u001b[0m \u001b[0mname\u001b[0m\u001b[0;34m=\u001b[0m\u001b[0;34m\"song_data_\"\u001b[0m\u001b[0;34m+\u001b[0m\u001b[0mstr\u001b[0m\u001b[0;34m(\u001b[0m\u001b[0mcount\u001b[0m\u001b[0;34m)\u001b[0m\u001b[0;34m)\u001b[0m\u001b[0;34m\u001b[0m\u001b[0;34m\u001b[0m\u001b[0m\n\u001b[1;32m      5\u001b[0m     \u001b[0mcount\u001b[0m \u001b[0;34m=\u001b[0m \u001b[0mcount\u001b[0m \u001b[0;34m+\u001b[0m \u001b[0;36m1\u001b[0m\u001b[0;34m\u001b[0m\u001b[0;34m\u001b[0m\u001b[0m\n",
      "\u001b[0;32m<ipython-input-18-cc87fb47aeed>\u001b[0m in \u001b[0;36mbySongID\u001b[0;34m(song_id, n)\u001b[0m\n\u001b[1;32m      5\u001b[0m     \u001b[0;32mimport\u001b[0m \u001b[0mpandas\u001b[0m \u001b[0;32mas\u001b[0m \u001b[0mpd\u001b[0m\u001b[0;34m\u001b[0m\u001b[0;34m\u001b[0m\u001b[0m\n\u001b[1;32m      6\u001b[0m     \u001b[0mapi\u001b[0m \u001b[0;34m=\u001b[0m \u001b[0mTikTokApi\u001b[0m\u001b[0;34m(\u001b[0m\u001b[0;34m)\u001b[0m\u001b[0;34m\u001b[0m\u001b[0;34m\u001b[0m\u001b[0m\n\u001b[0;32m----> 7\u001b[0;31m     \u001b[0msong_snowball\u001b[0m \u001b[0;34m=\u001b[0m \u001b[0mapi\u001b[0m\u001b[0;34m.\u001b[0m\u001b[0mbySound\u001b[0m\u001b[0;34m(\u001b[0m\u001b[0msong_id\u001b[0m\u001b[0;34m,\u001b[0m \u001b[0mcount\u001b[0m\u001b[0;34m=\u001b[0m\u001b[0mn\u001b[0m\u001b[0;34m)\u001b[0m\u001b[0;34m\u001b[0m\u001b[0;34m\u001b[0m\u001b[0m\n\u001b[0m\u001b[1;32m      8\u001b[0m \u001b[0;34m\u001b[0m\u001b[0m\n\u001b[1;32m      9\u001b[0m     \u001b[0mvids\u001b[0m \u001b[0;34m=\u001b[0m \u001b[0;34m[\u001b[0m\u001b[0;34m]\u001b[0m\u001b[0;34m\u001b[0m\u001b[0;34m\u001b[0m\u001b[0m\n",
      "\u001b[0;32m/opt/anaconda3/lib/python3.8/site-packages/TikTokApi/tiktok.py\u001b[0m in \u001b[0;36mbySound\u001b[0;34m(self, id, count, offset, **kwargs)\u001b[0m\n\u001b[1;32m    594\u001b[0m             )\n\u001b[1;32m    595\u001b[0m             \u001b[0mb\u001b[0m \u001b[0;34m=\u001b[0m \u001b[0mbrowser\u001b[0m\u001b[0;34m(\u001b[0m\u001b[0mapi_url\u001b[0m\u001b[0;34m,\u001b[0m \u001b[0;34m**\u001b[0m\u001b[0mkwargs\u001b[0m\u001b[0;34m)\u001b[0m\u001b[0;34m\u001b[0m\u001b[0;34m\u001b[0m\u001b[0m\n\u001b[0;32m--> 596\u001b[0;31m             \u001b[0mres\u001b[0m \u001b[0;34m=\u001b[0m \u001b[0mself\u001b[0m\u001b[0;34m.\u001b[0m\u001b[0mgetData\u001b[0m\u001b[0;34m(\u001b[0m\u001b[0mb\u001b[0m\u001b[0;34m,\u001b[0m \u001b[0;34m**\u001b[0m\u001b[0mkwargs\u001b[0m\u001b[0;34m)\u001b[0m\u001b[0;34m\u001b[0m\u001b[0;34m\u001b[0m\u001b[0m\n\u001b[0m\u001b[1;32m    597\u001b[0m \u001b[0;34m\u001b[0m\u001b[0m\n\u001b[1;32m    598\u001b[0m             \u001b[0;32mfor\u001b[0m \u001b[0mt\u001b[0m \u001b[0;32min\u001b[0m \u001b[0mres\u001b[0m\u001b[0;34m.\u001b[0m\u001b[0mget\u001b[0m\u001b[0;34m(\u001b[0m\u001b[0;34m\"itemList\"\u001b[0m\u001b[0;34m,\u001b[0m \u001b[0;34m[\u001b[0m\u001b[0;34m]\u001b[0m\u001b[0;34m)\u001b[0m\u001b[0;34m:\u001b[0m\u001b[0;34m\u001b[0m\u001b[0;34m\u001b[0m\u001b[0m\n",
      "\u001b[0;32m/opt/anaconda3/lib/python3.8/site-packages/TikTokApi/tiktok.py\u001b[0m in \u001b[0;36mgetData\u001b[0;34m(self, b, **kwargs)\u001b[0m\n\u001b[1;32m     79\u001b[0m             \u001b[0mtime\u001b[0m\u001b[0;34m.\u001b[0m\u001b[0msleep\u001b[0m\u001b[0;34m(\u001b[0m\u001b[0mself\u001b[0m\u001b[0;34m.\u001b[0m\u001b[0mrequest_delay\u001b[0m\u001b[0;34m)\u001b[0m\u001b[0;34m\u001b[0m\u001b[0;34m\u001b[0m\u001b[0m\n\u001b[1;32m     80\u001b[0m \u001b[0;34m\u001b[0m\u001b[0m\n\u001b[0;32m---> 81\u001b[0;31m         \u001b[0mquery\u001b[0m \u001b[0;34m=\u001b[0m \u001b[0;34m{\u001b[0m\u001b[0;34m\"verifyFp\"\u001b[0m\u001b[0;34m:\u001b[0m \u001b[0mb\u001b[0m\u001b[0;34m.\u001b[0m\u001b[0mverifyFp\u001b[0m\u001b[0;34m,\u001b[0m \u001b[0;34m\"did\"\u001b[0m\u001b[0;34m:\u001b[0m \u001b[0mb\u001b[0m\u001b[0;34m.\u001b[0m\u001b[0mdid\u001b[0m\u001b[0;34m,\u001b[0m \u001b[0;34m\"_signature\"\u001b[0m\u001b[0;34m:\u001b[0m \u001b[0mb\u001b[0m\u001b[0;34m.\u001b[0m\u001b[0msignature\u001b[0m\u001b[0;34m}\u001b[0m\u001b[0;34m\u001b[0m\u001b[0;34m\u001b[0m\u001b[0m\n\u001b[0m\u001b[1;32m     82\u001b[0m         \u001b[0murl\u001b[0m \u001b[0;34m=\u001b[0m \u001b[0;34m\"{}&{}\"\u001b[0m\u001b[0;34m.\u001b[0m\u001b[0mformat\u001b[0m\u001b[0;34m(\u001b[0m\u001b[0mb\u001b[0m\u001b[0;34m.\u001b[0m\u001b[0murl\u001b[0m\u001b[0;34m,\u001b[0m \u001b[0murlencode\u001b[0m\u001b[0;34m(\u001b[0m\u001b[0mquery\u001b[0m\u001b[0;34m)\u001b[0m\u001b[0;34m)\u001b[0m\u001b[0;34m\u001b[0m\u001b[0;34m\u001b[0m\u001b[0m\n\u001b[1;32m     83\u001b[0m         r = requests.get(\n",
      "\u001b[0;31mAttributeError\u001b[0m: 'browser' object has no attribute 'verifyFp'"
     ]
    }
   ],
   "source": [
    "count = 12\n",
    "for i in load['song_id']:\n",
    "    song_data = bySongID(i, n = 500)\n",
    "    to_csv(song_data, name=\"song_data_\"+str(count))\n",
    "    count = count + 1"
   ]
  },
  {
   "cell_type": "code",
   "execution_count": null,
   "metadata": {},
   "outputs": [],
   "source": []
  },
  {
   "cell_type": "code",
   "execution_count": null,
   "metadata": {},
   "outputs": [],
   "source": []
  }
 ],
 "metadata": {
  "kernelspec": {
   "display_name": "Python 3",
   "language": "python",
   "name": "python3"
  },
  "language_info": {
   "codemirror_mode": {
    "name": "ipython",
    "version": 3
   },
   "file_extension": ".py",
   "mimetype": "text/x-python",
   "name": "python",
   "nbconvert_exporter": "python",
   "pygments_lexer": "ipython3",
   "version": "3.8.3"
  }
 },
 "nbformat": 4,
 "nbformat_minor": 4
}
