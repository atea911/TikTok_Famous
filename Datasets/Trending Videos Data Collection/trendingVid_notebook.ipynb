{
 "cells": [
  {
   "cell_type": "code",
   "execution_count": 1,
   "metadata": {},
   "outputs": [],
   "source": [
    "import pandas as pd\n",
    "import numpy as np\n",
    "from TikTokApi import TikTokApi\n",
    "from tiktok_data_cleaner import get_trending_data, hashtag_cleaner, data_cleaner, to_csv"
   ]
  },
  {
   "cell_type": "markdown",
   "metadata": {},
   "source": [
    "# Collecting Trending Video Data from API"
   ]
  },
  {
   "cell_type": "code",
   "execution_count": 2,
   "metadata": {},
   "outputs": [
    {
     "name": "stderr",
     "output_type": "stream",
     "text": [
      "/Users/ivant/Desktop/DataRes/TikTok/venv/lib/python3.8/site-packages/TikTokApi/browser.py:84: RuntimeWarning: coroutine 'browser.newParams' was never awaited\n",
      "  self.loop.close()\n",
      "RuntimeWarning: Enable tracemalloc to get the object allocation traceback\n"
     ]
    }
   ],
   "source": [
    "tiktok_dict = get_trending_data(n = 150)\n",
    "dataframe = data_cleaner(tiktok_dict).drop_duplicates('id')\n",
    "to_csv(dataframe, name = 'trending_11_10')"
   ]
  }
 ],
 "metadata": {
  "kernelspec": {
   "display_name": "TikTok",
   "language": "python",
   "name": "tiktok"
  },
  "language_info": {
   "codemirror_mode": {
    "name": "ipython",
    "version": 3
   },
   "file_extension": ".py",
   "mimetype": "text/x-python",
   "name": "python",
   "nbconvert_exporter": "python",
   "pygments_lexer": "ipython3",
   "version": "3.8.2"
  }
 },
 "nbformat": 4,
 "nbformat_minor": 4
}
