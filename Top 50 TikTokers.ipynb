{
 "cells": [
  {
   "cell_type": "code",
   "execution_count": 28,
   "metadata": {},
   "outputs": [],
   "source": [
    "import pandas as pd\n",
    "import numpy as np\n",
    "import matplotlib.pyplot as plt\n",
    "import seaborn as sns\n",
    "\n",
    "sns.set_style(\"darkgrid\")"
   ]
  },
  {
   "cell_type": "code",
   "execution_count": 29,
   "metadata": {},
   "outputs": [
    {
     "data": {
      "text/html": [
       "<div>\n",
       "<style scoped>\n",
       "    .dataframe tbody tr th:only-of-type {\n",
       "        vertical-align: middle;\n",
       "    }\n",
       "\n",
       "    .dataframe tbody tr th {\n",
       "        vertical-align: top;\n",
       "    }\n",
       "\n",
       "    .dataframe thead th {\n",
       "        text-align: right;\n",
       "    }\n",
       "</style>\n",
       "<table border=\"1\" class=\"dataframe\">\n",
       "  <thead>\n",
       "    <tr style=\"text-align: right;\">\n",
       "      <th></th>\n",
       "      <th>Rank</th>\n",
       "      <th>Username</th>\n",
       "      <th>Owner</th>\n",
       "      <th>Followers[8](millions)</th>\n",
       "      <th>Likes[8](millions)</th>\n",
       "      <th>Description</th>\n",
       "      <th>Country</th>\n",
       "      <th>Brand Account</th>\n",
       "      <th>Sex</th>\n",
       "      <th>Age</th>\n",
       "      <th>Ethnicity</th>\n",
       "    </tr>\n",
       "  </thead>\n",
       "  <tbody>\n",
       "    <tr>\n",
       "      <th>0</th>\n",
       "      <td>1</td>\n",
       "      <td>@charlidamelio</td>\n",
       "      <td>Charli D'Amelio</td>\n",
       "      <td>93.7</td>\n",
       "      <td>6646.4</td>\n",
       "      <td>Dancer and social media personality</td>\n",
       "      <td>United States</td>\n",
       "      <td>0</td>\n",
       "      <td>Female</td>\n",
       "      <td>16.0</td>\n",
       "      <td>White</td>\n",
       "    </tr>\n",
       "    <tr>\n",
       "      <th>1</th>\n",
       "      <td>2</td>\n",
       "      <td>@addisonre</td>\n",
       "      <td>Addison Rae</td>\n",
       "      <td>65.3</td>\n",
       "      <td>3711.6</td>\n",
       "      <td>Dancer and social media personality</td>\n",
       "      <td>United States</td>\n",
       "      <td>0</td>\n",
       "      <td>Female</td>\n",
       "      <td>19.0</td>\n",
       "      <td>White</td>\n",
       "    </tr>\n",
       "    <tr>\n",
       "      <th>2</th>\n",
       "      <td>3</td>\n",
       "      <td>@zachking</td>\n",
       "      <td>Zach King</td>\n",
       "      <td>51.0</td>\n",
       "      <td>592.4</td>\n",
       "      <td>Filmmaker and social media personality</td>\n",
       "      <td>United States</td>\n",
       "      <td>0</td>\n",
       "      <td>Male</td>\n",
       "      <td>30.0</td>\n",
       "      <td>East Asian</td>\n",
       "    </tr>\n",
       "    <tr>\n",
       "      <th>3</th>\n",
       "      <td>4</td>\n",
       "      <td>@lorengray</td>\n",
       "      <td>Loren Gray</td>\n",
       "      <td>48.2</td>\n",
       "      <td>2571.9</td>\n",
       "      <td>Singer and social media personality</td>\n",
       "      <td>United States</td>\n",
       "      <td>0</td>\n",
       "      <td>Female</td>\n",
       "      <td>18.0</td>\n",
       "      <td>White</td>\n",
       "    </tr>\n",
       "    <tr>\n",
       "      <th>4</th>\n",
       "      <td>5</td>\n",
       "      <td>@tiktok</td>\n",
       "      <td>TikTok</td>\n",
       "      <td>48.2</td>\n",
       "      <td>240.8</td>\n",
       "      <td>Social media platform</td>\n",
       "      <td>United States</td>\n",
       "      <td>1</td>\n",
       "      <td>NaN</td>\n",
       "      <td>NaN</td>\n",
       "      <td>NaN</td>\n",
       "    </tr>\n",
       "  </tbody>\n",
       "</table>\n",
       "</div>"
      ],
      "text/plain": [
       "   Rank        Username            Owner  Followers[8](millions)  \\\n",
       "0     1  @charlidamelio  Charli D'Amelio                    93.7   \n",
       "1     2      @addisonre      Addison Rae                    65.3   \n",
       "2     3       @zachking        Zach King                    51.0   \n",
       "3     4      @lorengray       Loren Gray                    48.2   \n",
       "4     5         @tiktok           TikTok                    48.2   \n",
       "\n",
       "   Likes[8](millions)                             Description        Country  \\\n",
       "0              6646.4     Dancer and social media personality  United States   \n",
       "1              3711.6     Dancer and social media personality  United States   \n",
       "2               592.4  Filmmaker and social media personality  United States   \n",
       "3              2571.9     Singer and social media personality  United States   \n",
       "4               240.8                   Social media platform  United States   \n",
       "\n",
       "   Brand Account     Sex   Age   Ethnicity  \n",
       "0              0  Female  16.0       White  \n",
       "1              0  Female  19.0       White  \n",
       "2              0    Male  30.0  East Asian  \n",
       "3              0  Female  18.0       White  \n",
       "4              1     NaN   NaN         NaN  "
      ]
     },
     "execution_count": 29,
     "metadata": {},
     "output_type": "execute_result"
    }
   ],
   "source": [
    "top_tiktokers = pd.read_csv('top-50-tiktokers.csv', engine='python')\n",
    "top_tiktokers.head()"
   ]
  },
  {
   "cell_type": "code",
   "execution_count": 35,
   "metadata": {},
   "outputs": [
    {
     "data": {
      "image/png": "[encoded data removed]",
      "text/plain": [
       "<Figure size 432x288 with 1 Axes>"
      ]
     },
     "metadata": {},
     "output_type": "display_data"
    }
   ],
   "source": [
    "sns.barplot(top_tiktokers.groupby('Ethnicity')['Ethnicity'].count().index, \n",
    "            top_tiktokers.groupby('Ethnicity')['Ethnicity'].count());"
   ]
  },
  {
   "cell_type": "code",
   "execution_count": 31,
   "metadata": {},
   "outputs": [
    {
     "data": {
      "image/png": "[encoded data removed]",
      "text/plain": [
       "<Figure size 432x288 with 1 Axes>"
      ]
     },
     "metadata": {},
     "output_type": "display_data"
    }
   ],
   "source": [
    "top_tiktokers.groupby(['Country', 'Ethnicity']).size().unstack().plot(kind='bar', stacked=True);"
   ]
  },
  {
   "cell_type": "code",
   "execution_count": 34,
   "metadata": {},
   "outputs": [
    {
     "data": {
      "image/png": "[encoded data removed]",
      "text/plain": [
       "<Figure size 432x288 with 1 Axes>"
      ]
     },
     "metadata": {},
     "output_type": "display_data"
    }
   ],
   "source": [
    "sns.barplot(top_tiktokers.groupby('Age')['Age'].count().index, \n",
    "            top_tiktokers.groupby('Age')['Age'].count());"
   ]
  },
  {
   "cell_type": "code",
   "execution_count": null,
   "metadata": {},
   "outputs": [],
   "source": []
  }
 ],
 "metadata": {
  "kernelspec": {
   "display_name": "Python 3",
   "language": "python",
   "name": "python3"
  },
  "language_info": {
   "codemirror_mode": {
    "name": "ipython",
    "version": 3
   },
   "file_extension": ".py",
   "mimetype": "text/x-python",
   "name": "python",
   "nbconvert_exporter": "python",
   "pygments_lexer": "ipython3",
   "version": "3.8.3"
  }
 },
 "nbformat": 4,
 "nbformat_minor": 4
}
