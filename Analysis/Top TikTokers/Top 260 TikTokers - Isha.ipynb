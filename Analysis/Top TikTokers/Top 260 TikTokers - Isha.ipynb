{
 "cells": [
  {
   "cell_type": "code",
   "execution_count": 2,
   "metadata": {},
   "outputs": [],
   "source": [
    "import pandas as pd\n",
    "import numpy as np\n",
    "import matplotlib.pyplot as plt\n",
    "import seaborn as sns\n",
    "\n",
    "sns.set_style(\"darkgrid\")"
   ]
  },
  {
   "cell_type": "code",
   "execution_count": 5,
   "metadata": {
    "scrolled": true
   },
   "outputs": [
    {
     "data": {
      "text/html": [
       "<div>\n",
       "<style scoped>\n",
       "    .dataframe tbody tr th:only-of-type {\n",
       "        vertical-align: middle;\n",
       "    }\n",
       "\n",
       "    .dataframe tbody tr th {\n",
       "        vertical-align: top;\n",
       "    }\n",
       "\n",
       "    .dataframe thead th {\n",
       "        text-align: right;\n",
       "    }\n",
       "</style>\n",
       "<table border=\"1\" class=\"dataframe\">\n",
       "  <thead>\n",
       "    <tr style=\"text-align: right;\">\n",
       "      <th></th>\n",
       "      <th>Rank</th>\n",
       "      <th>Username</th>\n",
       "      <th>Country</th>\n",
       "      <th>Followers</th>\n",
       "      <th>Views</th>\n",
       "      <th>Likes</th>\n",
       "      <th>Engagement</th>\n",
       "      <th>Brand Account</th>\n",
       "      <th>Gender</th>\n",
       "      <th>Age</th>\n",
       "      <th>Ethnicity</th>\n",
       "      <th>Famous</th>\n",
       "      <th>Genre</th>\n",
       "      <th>LGBTQ</th>\n",
       "    </tr>\n",
       "  </thead>\n",
       "  <tbody>\n",
       "    <tr>\n",
       "      <th>0</th>\n",
       "      <td>1</td>\n",
       "      <td>@charlidamelio</td>\n",
       "      <td>U.S.A</td>\n",
       "      <td>78.9m</td>\n",
       "      <td>38.3m</td>\n",
       "      <td>6.1m</td>\n",
       "      <td>16.60%</td>\n",
       "      <td>0</td>\n",
       "      <td>Female</td>\n",
       "      <td>16.0</td>\n",
       "      <td>White</td>\n",
       "      <td>0.0</td>\n",
       "      <td>Dancing, Lipsyncing, Lifestyle</td>\n",
       "      <td>0.0</td>\n",
       "    </tr>\n",
       "    <tr>\n",
       "      <th>1</th>\n",
       "      <td>2</td>\n",
       "      <td>@addisonre</td>\n",
       "      <td>U.S.A</td>\n",
       "      <td>53.7m</td>\n",
       "      <td>13.8m</td>\n",
       "      <td>2.8m</td>\n",
       "      <td>20.80%</td>\n",
       "      <td>0</td>\n",
       "      <td>Female</td>\n",
       "      <td>19.0</td>\n",
       "      <td>White</td>\n",
       "      <td>0.0</td>\n",
       "      <td>Dancing, Lipsyncing</td>\n",
       "      <td>0.0</td>\n",
       "    </tr>\n",
       "    <tr>\n",
       "      <th>2</th>\n",
       "      <td>3</td>\n",
       "      <td>@zachking</td>\n",
       "      <td>U.S.A</td>\n",
       "      <td>47.3m</td>\n",
       "      <td>17.6m</td>\n",
       "      <td>2.8m</td>\n",
       "      <td>16%</td>\n",
       "      <td>0</td>\n",
       "      <td>Male</td>\n",
       "      <td>30.0</td>\n",
       "      <td>East Asian</td>\n",
       "      <td>1.0</td>\n",
       "      <td>Comedy, Illusion</td>\n",
       "      <td>0.0</td>\n",
       "    </tr>\n",
       "    <tr>\n",
       "      <th>3</th>\n",
       "      <td>4</td>\n",
       "      <td>@lorengray</td>\n",
       "      <td>U.S.A</td>\n",
       "      <td>46.3m</td>\n",
       "      <td>3.2m</td>\n",
       "      <td>622.6k</td>\n",
       "      <td>19.70%</td>\n",
       "      <td>0</td>\n",
       "      <td>Female</td>\n",
       "      <td>18.0</td>\n",
       "      <td>White</td>\n",
       "      <td>1.0</td>\n",
       "      <td>Dancing, Lipsyncing</td>\n",
       "      <td>0.0</td>\n",
       "    </tr>\n",
       "    <tr>\n",
       "      <th>4</th>\n",
       "      <td>5</td>\n",
       "      <td>@tiktok</td>\n",
       "      <td>U.S.A</td>\n",
       "      <td>45.3m</td>\n",
       "      <td>9.4m</td>\n",
       "      <td>503.0k</td>\n",
       "      <td>5.60%</td>\n",
       "      <td>1</td>\n",
       "      <td>NaN</td>\n",
       "      <td>NaN</td>\n",
       "      <td>NaN</td>\n",
       "      <td>1.0</td>\n",
       "      <td>NaN</td>\n",
       "      <td>NaN</td>\n",
       "    </tr>\n",
       "    <tr>\n",
       "      <th>...</th>\n",
       "      <td>...</td>\n",
       "      <td>...</td>\n",
       "      <td>...</td>\n",
       "      <td>...</td>\n",
       "      <td>...</td>\n",
       "      <td>...</td>\n",
       "      <td>...</td>\n",
       "      <td>...</td>\n",
       "      <td>...</td>\n",
       "      <td>...</td>\n",
       "      <td>...</td>\n",
       "      <td>...</td>\n",
       "      <td>...</td>\n",
       "      <td>...</td>\n",
       "    </tr>\n",
       "    <tr>\n",
       "      <th>251</th>\n",
       "      <td>252</td>\n",
       "      <td>@ramneeksingh1313</td>\n",
       "      <td>India</td>\n",
       "      <td>8.6m</td>\n",
       "      <td>479.1k</td>\n",
       "      <td>31.6k</td>\n",
       "      <td>6.70%</td>\n",
       "      <td>0</td>\n",
       "      <td>Male</td>\n",
       "      <td>35.0</td>\n",
       "      <td>South Asian</td>\n",
       "      <td>0.0</td>\n",
       "      <td>Comedy, Acting</td>\n",
       "      <td>0.0</td>\n",
       "    </tr>\n",
       "    <tr>\n",
       "      <th>252</th>\n",
       "      <td>253</td>\n",
       "      <td>@amandacerny</td>\n",
       "      <td>U.S.A</td>\n",
       "      <td>8.6m</td>\n",
       "      <td>654.7k</td>\n",
       "      <td>95.2k</td>\n",
       "      <td>14.60%</td>\n",
       "      <td>0</td>\n",
       "      <td>Female</td>\n",
       "      <td>29.0</td>\n",
       "      <td>White</td>\n",
       "      <td>1.0</td>\n",
       "      <td>Comedy, Lifestyle</td>\n",
       "      <td>0.0</td>\n",
       "    </tr>\n",
       "    <tr>\n",
       "      <th>253</th>\n",
       "      <td>254</td>\n",
       "      <td>@rahimabram</td>\n",
       "      <td>Russia</td>\n",
       "      <td>8.6m</td>\n",
       "      <td>1.6m</td>\n",
       "      <td>271.2k</td>\n",
       "      <td>17%</td>\n",
       "      <td>0</td>\n",
       "      <td>Male</td>\n",
       "      <td>22.0</td>\n",
       "      <td>White</td>\n",
       "      <td>1.0</td>\n",
       "      <td>Lipsyncing, Promotion, Lifestyle</td>\n",
       "      <td>0.0</td>\n",
       "    </tr>\n",
       "    <tr>\n",
       "      <th>254</th>\n",
       "      <td>255</td>\n",
       "      <td>@johnnyorlando</td>\n",
       "      <td>U.S.A</td>\n",
       "      <td>8.6m</td>\n",
       "      <td>1.1m</td>\n",
       "      <td>245.4k</td>\n",
       "      <td>22.70%</td>\n",
       "      <td>0</td>\n",
       "      <td>Male</td>\n",
       "      <td>17.0</td>\n",
       "      <td>White</td>\n",
       "      <td>1.0</td>\n",
       "      <td>Lipsyncing, Promotion, Lifestyle</td>\n",
       "      <td>0.0</td>\n",
       "    </tr>\n",
       "    <tr>\n",
       "      <th>255</th>\n",
       "      <td>256</td>\n",
       "      <td>@sarati</td>\n",
       "      <td>U.S.A</td>\n",
       "      <td>8.6m</td>\n",
       "      <td>459.5k</td>\n",
       "      <td>90.4k</td>\n",
       "      <td>19.80%</td>\n",
       "      <td>0</td>\n",
       "      <td>Female</td>\n",
       "      <td>24.0</td>\n",
       "      <td>White</td>\n",
       "      <td>1.0</td>\n",
       "      <td>Dancing, Comedy, Lifestyle</td>\n",
       "      <td>0.0</td>\n",
       "    </tr>\n",
       "  </tbody>\n",
       "</table>\n",
       "<p>256 rows × 14 columns</p>\n",
       "</div>"
      ],
      "text/plain": [
       "     Rank           Username Country Followers   Views   Likes Engagement  \\\n",
       "0       1     @charlidamelio   U.S.A     78.9m   38.3m    6.1m     16.60%   \n",
       "1       2         @addisonre   U.S.A     53.7m   13.8m    2.8m     20.80%   \n",
       "2       3          @zachking   U.S.A     47.3m   17.6m    2.8m        16%   \n",
       "3       4         @lorengray   U.S.A     46.3m    3.2m  622.6k     19.70%   \n",
       "4       5            @tiktok   U.S.A     45.3m    9.4m  503.0k      5.60%   \n",
       "..    ...                ...     ...       ...     ...     ...        ...   \n",
       "251   252  @ramneeksingh1313   India      8.6m  479.1k   31.6k      6.70%   \n",
       "252   253       @amandacerny   U.S.A      8.6m  654.7k   95.2k     14.60%   \n",
       "253   254        @rahimabram  Russia      8.6m    1.6m  271.2k        17%   \n",
       "254   255     @johnnyorlando   U.S.A      8.6m    1.1m  245.4k     22.70%   \n",
       "255   256            @sarati   U.S.A      8.6m  459.5k   90.4k     19.80%   \n",
       "\n",
       "     Brand Account  Gender   Age    Ethnicity  Famous  \\\n",
       "0                0  Female  16.0        White     0.0   \n",
       "1                0  Female  19.0        White     0.0   \n",
       "2                0    Male  30.0   East Asian     1.0   \n",
       "3                0  Female  18.0        White     1.0   \n",
       "4                1     NaN   NaN          NaN     1.0   \n",
       "..             ...     ...   ...          ...     ...   \n",
       "251              0    Male  35.0  South Asian     0.0   \n",
       "252              0  Female  29.0        White     1.0   \n",
       "253              0    Male  22.0        White     1.0   \n",
       "254              0    Male  17.0        White     1.0   \n",
       "255              0  Female  24.0        White     1.0   \n",
       "\n",
       "                                Genre  LGBTQ  \n",
       "0      Dancing, Lipsyncing, Lifestyle    0.0  \n",
       "1                 Dancing, Lipsyncing    0.0  \n",
       "2                    Comedy, Illusion    0.0  \n",
       "3                 Dancing, Lipsyncing    0.0  \n",
       "4                                 NaN    NaN  \n",
       "..                                ...    ...  \n",
       "251                    Comedy, Acting    0.0  \n",
       "252                 Comedy, Lifestyle    0.0  \n",
       "253  Lipsyncing, Promotion, Lifestyle    0.0  \n",
       "254  Lipsyncing, Promotion, Lifestyle    0.0  \n",
       "255        Dancing, Comedy, Lifestyle    0.0  \n",
       "\n",
       "[256 rows x 14 columns]"
      ]
     },
     "execution_count": 5,
     "metadata": {},
     "output_type": "execute_result"
    }
   ],
   "source": [
    "top_tiktokers = pd.read_csv('top-250-tiktokers.csv', engine = 'python')\n",
    "top_tiktokers"
   ]
  },
  {
   "cell_type": "code",
   "execution_count": 9,
   "metadata": {},
   "outputs": [],
   "source": [
    "pdd.to_csv('merge.csv', index=False)"
   ]
  },
  {
   "cell_type": "code",
   "execution_count": 18,
   "metadata": {
    "scrolled": true
   },
   "outputs": [
    {
     "name": "stdout",
     "output_type": "stream",
     "text": [
      "<class 'pandas.core.frame.DataFrame'>\n",
      "RangeIndex: 256 entries, 0 to 255\n",
      "Data columns (total 14 columns):\n",
      " #   Column         Non-Null Count  Dtype  \n",
      "---  ------         --------------  -----  \n",
      " 0   Rank           256 non-null    int64  \n",
      " 1   Username       256 non-null    object \n",
      " 2   Country        256 non-null    object \n",
      " 3   Followers      256 non-null    float64\n",
      " 4   Views          256 non-null    float64\n",
      " 5   Likes          256 non-null    float64\n",
      " 6   Engagement     256 non-null    float64\n",
      " 7   Brand Account  256 non-null    int64  \n",
      " 8   Gender         232 non-null    object \n",
      " 9   Age            225 non-null    float64\n",
      " 10  Ethnicity      242 non-null    object \n",
      " 11  Famous         255 non-null    float64\n",
      " 12  Genre          254 non-null    object \n",
      " 13  LGBTQ          239 non-null    float64\n",
      "dtypes: float64(7), int64(2), object(5)\n",
      "memory usage: 28.1+ KB\n"
     ]
    }
   ],
   "source": [
    "top_tiktokers.info()"
   ]
  },
  {
   "cell_type": "code",
   "execution_count": 10,
   "metadata": {},
   "outputs": [],
   "source": [
    "top_tiktokers[\"Followers\"] = top_tiktokers[\"Followers\"].astype(str).str.replace(\"m\", \"\")\n",
    "top_tiktokers[\"Followers\"] = top_tiktokers[\"Followers\"].astype(float)"
   ]
  },
  {
   "cell_type": "code",
   "execution_count": 13,
   "metadata": {},
   "outputs": [],
   "source": [
    "top_tiktokers[\"Views\"] = top_tiktokers[\"Views\"].astype(str).str.replace(\"m\", \"\")\n",
    "top_tiktokers[\"Views\"] = top_tiktokers[\"Views\"].astype(str).str.replace(\"k\", \"\")\n",
    "top_tiktokers[\"Views\"] = top_tiktokers[\"Views\"].astype(float)"
   ]
  },
  {
   "cell_type": "code",
   "execution_count": 15,
   "metadata": {},
   "outputs": [],
   "source": [
    "top_tiktokers[\"Likes\"] = top_tiktokers[\"Likes\"].astype(str).str.replace(\"m\", \"\")\n",
    "top_tiktokers[\"Likes\"] = top_tiktokers[\"Likes\"].astype(str).str.replace(\"k\", \"\")\n",
    "top_tiktokers[\"Likes\"] = top_tiktokers[\"Likes\"].astype(float)"
   ]
  },
  {
   "cell_type": "code",
   "execution_count": 17,
   "metadata": {},
   "outputs": [],
   "source": [
    "top_tiktokers[\"Engagement\"] = top_tiktokers[\"Engagement\"].astype(str).str.replace(\"%\", \"\")\n",
    "top_tiktokers[\"Engagement\"] = top_tiktokers[\"Engagement\"].astype(float)"
   ]
  },
  {
   "cell_type": "code",
   "execution_count": 7,
   "metadata": {},
   "outputs": [
    {
     "data": {
      "text/plain": [
       "Index(['Rank', 'Username', 'Country', 'Followers', 'Views', 'Likes',\n",
       "       'Engagement', 'Brand Account', 'Gender', 'Age', 'Ethnicity', 'Famous',\n",
       "       'Genre', 'LGBTQ'],\n",
       "      dtype='object')"
      ]
     },
     "execution_count": 7,
     "metadata": {},
     "output_type": "execute_result"
    }
   ],
   "source": [
    "top_tiktokers.columns"
   ]
  },
  {
   "cell_type": "code",
   "execution_count": 8,
   "metadata": {},
   "outputs": [
    {
     "data": {
      "text/plain": [
       "0      Female\n",
       "1      Female\n",
       "2        Male\n",
       "3      Female\n",
       "4         NaN\n",
       "        ...  \n",
       "251      Male\n",
       "252    Female\n",
       "253      Male\n",
       "254      Male\n",
       "255    Female\n",
       "Name: Gender, Length: 256, dtype: object"
      ]
     },
     "execution_count": 8,
     "metadata": {},
     "output_type": "execute_result"
    }
   ],
   "source": []
  },
  {
   "cell_type": "code",
   "execution_count": 3,
   "metadata": {},
   "outputs": [
    {
     "ename": "NameError",
     "evalue": "name 'df' is not defined",
     "output_type": "error",
     "traceback": [
      "\u001b[0;31m---------------------------------------------------------------------------\u001b[0m",
      "\u001b[0;31mNameError\u001b[0m                                 Traceback (most recent call last)",
      "\u001b[0;32m<ipython-input-3-b384bfc95af4>\u001b[0m in \u001b[0;36m<module>\u001b[0;34m\u001b[0m\n\u001b[1;32m      7\u001b[0m \u001b[0;31m#edit \"df\" to column we want to extract\u001b[0m\u001b[0;34m\u001b[0m\u001b[0;34m\u001b[0m\u001b[0;34m\u001b[0m\u001b[0m\n\u001b[1;32m      8\u001b[0m \u001b[0mgenre_list\u001b[0m \u001b[0;34m=\u001b[0m \u001b[0;34m[\u001b[0m\u001b[0;34m]\u001b[0m\u001b[0;34m\u001b[0m\u001b[0;34m\u001b[0m\u001b[0m\n\u001b[0;32m----> 9\u001b[0;31m \u001b[0;32mfor\u001b[0m \u001b[0mi\u001b[0m \u001b[0;32min\u001b[0m \u001b[0mdf\u001b[0m\u001b[0;34m.\u001b[0m\u001b[0mgenre\u001b[0m\u001b[0;34m:\u001b[0m\u001b[0;34m\u001b[0m\u001b[0;34m\u001b[0m\u001b[0m\n\u001b[0m\u001b[1;32m     10\u001b[0m     \u001b[0mgenre_list\u001b[0m \u001b[0;34m=\u001b[0m \u001b[0mgenre_list\u001b[0m \u001b[0;34m+\u001b[0m \u001b[0mconvert\u001b[0m\u001b[0;34m(\u001b[0m\u001b[0mi\u001b[0m\u001b[0;34m)\u001b[0m\u001b[0;34m\u001b[0m\u001b[0;34m\u001b[0m\u001b[0m\n\u001b[1;32m     11\u001b[0m \u001b[0mtiktok_genres\u001b[0m \u001b[0;34m=\u001b[0m \u001b[0mnp\u001b[0m\u001b[0;34m.\u001b[0m\u001b[0munique\u001b[0m\u001b[0;34m(\u001b[0m\u001b[0mgenre_list\u001b[0m\u001b[0;34m)\u001b[0m\u001b[0;34m\u001b[0m\u001b[0;34m\u001b[0m\u001b[0m\n",
      "\u001b[0;31mNameError\u001b[0m: name 'df' is not defined"
     ]
    }
   ],
   "source": [
    "#convert items to a list\n",
    "def convert(string): \n",
    "    li = list(string.split(\",\"))\n",
    "    li = [x.strip(' ') for x in li]\n",
    "    return li\n",
    "\n",
    "#edit \"df\" to column we want to extract\n",
    "genre_list = []\n",
    "for i in df.genre:\n",
    "    genre_list = genre_list + convert(i)\n",
    "tiktok_genres = np.unique(genre_list)\n",
    "\n",
    "#function that counts amount of each genre\n",
    "def count_amount(ser, ind):\n",
    "    li = []\n",
    "    for i in ind:\n",
    "        total = 0\n",
    "        for j in ser:\n",
    "            if i in j:\n",
    "                total += 1\n",
    "        li.append(total)\n",
    "    return li\n",
    "\n",
    "#using genre counts (change \"df\")\n",
    "genre_counts = count_amount(df.genre, tiktok_genres)\n",
    "tiktok_genre_df = pd.Series(genre_counts, index = tiktok_genres)"
   ]
  },
  {
   "cell_type": "code",
   "execution_count": null,
   "metadata": {},
   "outputs": [],
   "source": [
    "# OR USE DUMMIES TO GET COLUMNS!"
   ]
  },
  {
   "cell_type": "code",
   "execution_count": 14,
   "metadata": {},
   "outputs": [
    {
     "ename": "NameError",
     "evalue": "name 'tiktok_genres' is not defined",
     "output_type": "error",
     "traceback": [
      "\u001b[0;31m---------------------------------------------------------------------------\u001b[0m",
      "\u001b[0;31mNameError\u001b[0m                                 Traceback (most recent call last)",
      "\u001b[0;32m<ipython-input-14-50011edf62e0>\u001b[0m in \u001b[0;36m<module>\u001b[0;34m\u001b[0m\n\u001b[1;32m      2\u001b[0m \u001b[0mgenres_of_tokers_df\u001b[0m \u001b[0;34m=\u001b[0m \u001b[0mpd\u001b[0m\u001b[0;34m.\u001b[0m\u001b[0mDataFrame\u001b[0m\u001b[0;34m(\u001b[0m\u001b[0mcolumns\u001b[0m \u001b[0;34m=\u001b[0m \u001b[0;34m[\u001b[0m\u001b[0;34m'Followers'\u001b[0m\u001b[0;34m,\u001b[0m\u001b[0;34m'Views'\u001b[0m\u001b[0;34m,\u001b[0m\u001b[0;34m'Likes'\u001b[0m\u001b[0;34m,\u001b[0m\u001b[0;34m'Gender'\u001b[0m\u001b[0;34m,\u001b[0m\u001b[0;34m'Ethnicity'\u001b[0m\u001b[0;34m,\u001b[0m\u001b[0;34m'Genre'\u001b[0m\u001b[0;34m]\u001b[0m\u001b[0;34m)\u001b[0m\u001b[0;34m\u001b[0m\u001b[0;34m\u001b[0m\u001b[0m\n\u001b[1;32m      3\u001b[0m \u001b[0;34m\u001b[0m\u001b[0m\n\u001b[0;32m----> 4\u001b[0;31m \u001b[0;32mfor\u001b[0m \u001b[0mgenre\u001b[0m \u001b[0;32min\u001b[0m \u001b[0mtiktok_genres\u001b[0m\u001b[0;34m:\u001b[0m\u001b[0;34m\u001b[0m\u001b[0;34m\u001b[0m\u001b[0m\n\u001b[0m\u001b[1;32m      5\u001b[0m     \u001b[0;32mfor\u001b[0m \u001b[0mindex\u001b[0m\u001b[0;34m,\u001b[0m \u001b[0mrow\u001b[0m \u001b[0;32min\u001b[0m \u001b[0mtop_tiktokers\u001b[0m\u001b[0;34m[\u001b[0m\u001b[0mtop_tiktokers\u001b[0m\u001b[0;34m[\u001b[0m\u001b[0mcontains\u001b[0m\u001b[0;34m(\u001b[0m\u001b[0mgenre\u001b[0m\u001b[0;34m)\u001b[0m\u001b[0;34m]\u001b[0m\u001b[0;34m]\u001b[0m\u001b[0;34m.\u001b[0m\u001b[0miterrows\u001b[0m\u001b[0;34m(\u001b[0m\u001b[0;34m)\u001b[0m\u001b[0;34m:\u001b[0m\u001b[0;34m\u001b[0m\u001b[0;34m\u001b[0m\u001b[0m\n\u001b[1;32m      6\u001b[0m         genres_of_tokers_df = genres_of_tokers_df.append({'Followers': row['Followers'], \n",
      "\u001b[0;31mNameError\u001b[0m: name 'tiktok_genres' is not defined"
     ]
    }
   ],
   "source": [
    "#creating a dateframe with repeats of a tiktoker that falls into multiple genre categories, so we can plot catplots\n",
    "genres_of_tokers_df = pd.DataFrame(columns = ['Followers','Views','Likes','Gender','Ethnicity','Genre'])\n",
    "    \n",
    "for genre in tiktok_genres:\n",
    "    for index, row in top_tiktokers[top_tiktokers[contains(genre)]].iterrows():\n",
    "        genres_of_tokers_df = genres_of_tokers_df.append({'Followers': row['Followers'], \n",
    "                                                          'Views': row['Views'],\n",
    "                                                         'Likes': row['Likes'],\n",
    "                                                         'Gender': row['Gender'],\n",
    "                                                         'Ethnicity': row['Ethnicity'],\n",
    "                                                         'Genre': genre}, ignore_index=True)"
   ]
  },
  {
   "cell_type": "code",
   "execution_count": 15,
   "metadata": {},
   "outputs": [],
   "source": [
    "#lessen burden on piechart by grouping all smaller categories into an 'Other' index\n",
    "def group_lower_ranking_values(rating_counts, amt):\n",
    "    other = 0\n",
    "    for i in rating_counts:\n",
    "        if i < amt:\n",
    "            other += i\n",
    "            rating_counts = rating_counts.drop(rating_counts[rating_counts == i].index[0], axis=0)\n",
    "    rating_counts['Other'] = other\n",
    "    return rating_counts"
   ]
  },
  {
   "cell_type": "markdown",
   "metadata": {},
   "source": [
    "TIKTOK COLORS ~~~~\n",
    "\n",
    "Black: #010101\n",
    "Blue: #69C9D0\n",
    "White: #FFFFFF\n",
    "Red: #EE1D52\n",
    "\n",
    "Use https://seaborn.pydata.org/tutorial/categorical.html to see graphs with categorical data"
   ]
  },
  {
   "cell_type": "code",
   "execution_count": 16,
   "metadata": {},
   "outputs": [
    {
     "ename": "NameError",
     "evalue": "name 'tips' is not defined",
     "output_type": "error",
     "traceback": [
      "\u001b[0;31m---------------------------------------------------------------------------\u001b[0m",
      "\u001b[0;31mNameError\u001b[0m                                 Traceback (most recent call last)",
      "\u001b[0;32m<ipython-input-16-954a74d32486>\u001b[0m in \u001b[0;36m<module>\u001b[0;34m\u001b[0m\n\u001b[1;32m      1\u001b[0m \u001b[0;31m#use this to potentially see x=\"genre\" y=\"followers\"/\"likes\"/\"views\", hue=\"Gender\"\u001b[0m\u001b[0;34m\u001b[0m\u001b[0;34m\u001b[0m\u001b[0;34m\u001b[0m\u001b[0m\n\u001b[1;32m      2\u001b[0m \u001b[0;31m#discuss potential analysis: females get more ___ in genres of ____, males get more ___ in genres of ____\u001b[0m\u001b[0;34m\u001b[0m\u001b[0;34m\u001b[0m\u001b[0;34m\u001b[0m\u001b[0m\n\u001b[0;32m----> 3\u001b[0;31m \u001b[0msns\u001b[0m\u001b[0;34m.\u001b[0m\u001b[0mcatplot\u001b[0m\u001b[0;34m(\u001b[0m\u001b[0mx\u001b[0m\u001b[0;34m=\u001b[0m\u001b[0;34m\"day\"\u001b[0m\u001b[0;34m,\u001b[0m \u001b[0my\u001b[0m\u001b[0;34m=\u001b[0m\u001b[0;34m\"total_bill\"\u001b[0m\u001b[0;34m,\u001b[0m \u001b[0mhue\u001b[0m\u001b[0;34m=\u001b[0m\u001b[0;34m\"sex\"\u001b[0m\u001b[0;34m,\u001b[0m \u001b[0mkind\u001b[0m\u001b[0;34m=\u001b[0m\u001b[0;34m\"swarm\"\u001b[0m\u001b[0;34m,\u001b[0m \u001b[0mdata\u001b[0m\u001b[0;34m=\u001b[0m\u001b[0mtips\u001b[0m\u001b[0;34m)\u001b[0m\u001b[0;34m\u001b[0m\u001b[0;34m\u001b[0m\u001b[0m\n\u001b[0m\u001b[1;32m      4\u001b[0m \u001b[0;34m\u001b[0m\u001b[0m\n\u001b[1;32m      5\u001b[0m \u001b[0;31m#or can use a violin plot to see this!\u001b[0m\u001b[0;34m\u001b[0m\u001b[0;34m\u001b[0m\u001b[0;34m\u001b[0m\u001b[0m\n",
      "\u001b[0;31mNameError\u001b[0m: name 'tips' is not defined"
     ]
    }
   ],
   "source": [
    "#use this to potentially see x=\"genre\" y=\"followers\"/\"likes\"/\"views\", hue=\"Gender\"\n",
    "#discuss potential analysis: females get more ___ in genres of ____, males get more ___ in genres of ____\n",
    "sns.catplot(x=\"day\", y=\"total_bill\", hue=\"sex\", kind=\"swarm\", data=tips)\n",
    "\n",
    "#or can use a violin plot to see this!\n",
    "sns.catplot(x=\"day\", y=\"total_bill\", hue=\"sex\",\n",
    "            kind=\"violin\", split=True, data=tips)\n",
    "\n",
    "#average view/followers/likes per each genre separated by gender\n",
    "sns.catplot(x=\"class\", y=\"survived\", hue=\"sex\",\n",
    "            palette={\"male\": \"g\", \"female\": \"m\"},\n",
    "            markers=[\"^\", \"o\"], linestyles=[\"-\", \"--\"],\n",
    "            kind=\"point\", data=titanic)"
   ]
  },
  {
   "cell_type": "markdown",
   "metadata": {},
   "source": [
    "Making a nested pie chart to look at the ratio of men to women and whether they are lgbtq or not\n",
    "https://matplotlib.org/3.1.1/gallery/pie_and_polar_charts/nested_pie.html"
   ]
  },
  {
   "cell_type": "code",
   "execution_count": null,
   "metadata": {},
   "outputs": [],
   "source": []
  }
 ],
 "metadata": {
  "kernelspec": {
   "display_name": "Python 3",
   "language": "python",
   "name": "python3"
  },
  "language_info": {
   "codemirror_mode": {
    "name": "ipython",
    "version": 3
   },
   "file_extension": ".py",
   "mimetype": "text/x-python",
   "name": "python",
   "nbconvert_exporter": "python",
   "pygments_lexer": "ipython3",
   "version": "3.8.3"
  }
 },
 "nbformat": 4,
 "nbformat_minor": 4
}
